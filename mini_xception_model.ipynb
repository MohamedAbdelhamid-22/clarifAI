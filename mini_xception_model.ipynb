{
  "nbformat": 4,
  "nbformat_minor": 0,
  "metadata": {
    "colab": {
      "provenance": []
    },
    "kernelspec": {
      "name": "python3",
      "display_name": "Python 3"
    },
    "language_info": {
      "name": "python"
    }
  },
  "cells": [
    {
      "cell_type": "code",
      "execution_count": 1,
      "metadata": {
        "colab": {
          "base_uri": "https://localhost:8080/"
        },
        "id": "C0QM_tM0TMf9",
        "outputId": "d9c88deb-9d33-4dfa-9423-df27588d77a1"
      },
      "outputs": [
        {
          "output_type": "stream",
          "name": "stdout",
          "text": [
            "Collecting mtcnn\n",
            "  Downloading mtcnn-1.0.0-py3-none-any.whl.metadata (5.8 kB)\n",
            "Requirement already satisfied: opencv-python-headless in /usr/local/lib/python3.11/dist-packages (4.12.0.88)\n",
            "Requirement already satisfied: joblib>=1.4.2 in /usr/local/lib/python3.11/dist-packages (from mtcnn) (1.5.1)\n",
            "Collecting lz4>=4.3.3 (from mtcnn)\n",
            "  Downloading lz4-4.4.4-cp311-cp311-manylinux_2_17_x86_64.manylinux2014_x86_64.whl.metadata (3.8 kB)\n",
            "Requirement already satisfied: numpy<2.3.0,>=2 in /usr/local/lib/python3.11/dist-packages (from opencv-python-headless) (2.0.2)\n",
            "Downloading mtcnn-1.0.0-py3-none-any.whl (1.9 MB)\n",
            "\u001b[2K   \u001b[90m━━━━━━━━━━━━━━━━━━━━━━━━━━━━━━━━━━━━━━━━\u001b[0m \u001b[32m1.9/1.9 MB\u001b[0m \u001b[31m39.4 MB/s\u001b[0m eta \u001b[36m0:00:00\u001b[0m\n",
            "\u001b[?25hDownloading lz4-4.4.4-cp311-cp311-manylinux_2_17_x86_64.manylinux2014_x86_64.whl (1.3 MB)\n",
            "\u001b[2K   \u001b[90m━━━━━━━━━━━━━━━━━━━━━━━━━━━━━━━━━━━━━━━━\u001b[0m \u001b[32m1.3/1.3 MB\u001b[0m \u001b[31m43.4 MB/s\u001b[0m eta \u001b[36m0:00:00\u001b[0m\n",
            "\u001b[?25hInstalling collected packages: lz4, mtcnn\n",
            "Successfully installed lz4-4.4.4 mtcnn-1.0.0\n"
          ]
        }
      ],
      "source": [
        "!pip install mtcnn opencv-python-headless\n"
      ]
    },
    {
      "cell_type": "code",
      "source": [
        "import gdown\n",
        "\n",
        "# Download pretrained model from official repo\n",
        "url = \"https://github.com/oarriaga/face_classification/raw/master/trained_models/emotion_models/fer2013_mini_XCEPTION.102-0.66.hdf5\"\n",
        "gdown.download(url, \"mini_xception_engaged_confused.h5\", quiet=False)\n"
      ],
      "metadata": {
        "colab": {
          "base_uri": "https://localhost:8080/",
          "height": 105
        },
        "id": "akSvc7s3TNnP",
        "outputId": "299d55ca-ccff-42da-c685-a7abd41b9e70"
      },
      "execution_count": 2,
      "outputs": [
        {
          "output_type": "stream",
          "name": "stderr",
          "text": [
            "Downloading...\n",
            "From: https://github.com/oarriaga/face_classification/raw/master/trained_models/emotion_models/fer2013_mini_XCEPTION.102-0.66.hdf5\n",
            "To: /content/mini_xception_engaged_confused.h5\n",
            "100%|██████████| 873k/873k [00:00<00:00, 6.50MB/s]\n"
          ]
        },
        {
          "output_type": "execute_result",
          "data": {
            "text/plain": [
              "'mini_xception_engaged_confused.h5'"
            ],
            "application/vnd.google.colaboratory.intrinsic+json": {
              "type": "string"
            }
          },
          "metadata": {},
          "execution_count": 2
        }
      ]
    },
    {
      "cell_type": "code",
      "source": [
        "import cv2\n",
        "import numpy as np\n",
        "from mtcnn.mtcnn import MTCNN\n",
        "from tensorflow.keras.models import load_model\n",
        "from tensorflow.keras.preprocessing.image import img_to_array\n",
        "from IPython.display import HTML\n",
        "from base64 import b64encode\n",
        "\n",
        "# Load model and face detector\n",
        "model = load_model(\"mini_xception_engaged_confused.h5\", compile=False)\n",
        "\n",
        "detector = MTCNN()\n",
        "\n",
        "# FER2013 emotion classes\n",
        "emotion_labels = ['Angry', 'Disgust', 'Fear', 'Happy', 'Sad', 'Surprise', 'Neutral']\n",
        "\n",
        "def map_emotion(emotion):\n",
        "    if emotion in ['Happy', 'Surprise']:\n",
        "        return 'Engaged'\n",
        "    elif emotion in ['Angry', 'Disgust', 'Fear', 'Sad']:\n",
        "        return 'Confused'\n",
        "    else:\n",
        "        return 'Neutral'\n",
        "\n",
        "# Load video from Google Drive\n",
        "video_path = '/content/drive/MyDrive/clarifai/input/input_video.mp4'\n",
        "cap = cv2.VideoCapture(video_path)\n",
        "\n",
        "# Prepare output video path\n",
        "out_name = \"/content/output_emotion.mp4\"\n",
        "fourcc = cv2.VideoWriter_fourcc(*'mp4v')\n",
        "fps = int(cap.get(cv2.CAP_PROP_FPS))\n",
        "w = int(cap.get(cv2.CAP_PROP_FRAME_WIDTH))\n",
        "h = int(cap.get(cv2.CAP_PROP_FRAME_HEIGHT))\n",
        "out = cv2.VideoWriter(out_name, fourcc, fps, (w, h))\n",
        "\n",
        "# Frame processing\n",
        "while cap.isOpened():\n",
        "    ret, frame = cap.read()\n",
        "    if not ret:\n",
        "        break\n",
        "\n",
        "    rgb = cv2.cvtColor(frame, cv2.COLOR_BGR2RGB)\n",
        "    faces = detector.detect_faces(rgb)\n",
        "\n",
        "    for face in faces:\n",
        "        x, y, w_, h_ = face['box']\n",
        "        x, y = max(0, x), max(0, y)\n",
        "        face_img = rgb[y:y+h_, x:x+w_]\n",
        "        face_img = cv2.resize(face_img, (64, 64))\n",
        "        gray_face = cv2.cvtColor(face_img, cv2.COLOR_RGB2GRAY)\n",
        "        roi = gray_face.astype(\"float\") / 255.0\n",
        "        roi = img_to_array(roi)\n",
        "        roi = np.expand_dims(roi, axis=0)\n",
        "\n",
        "        preds = model.predict(roi, verbose=0)[0]\n",
        "        label = emotion_labels[preds.argmax()]\n",
        "        engagement = map_emotion(label)\n",
        "\n",
        "        color = (0, 255, 0) if engagement == 'Engaged' else (0, 0, 255)\n",
        "        cv2.rectangle(frame, (x, y), (x + w_, y + h_), color, 2)\n",
        "        cv2.putText(frame, engagement, (x, y - 10),\n",
        "                    cv2.FONT_HERSHEY_SIMPLEX, 0.9, color, 2)\n",
        "\n",
        "    out.write(frame)\n",
        "\n",
        "cap.release()\n",
        "out.release()\n"
      ],
      "metadata": {
        "id": "A-Xwbn-tT5I2"
      },
      "execution_count": 6,
      "outputs": []
    },
    {
      "cell_type": "code",
      "source": [],
      "metadata": {
        "id": "EOz0xFhnVE69"
      },
      "execution_count": null,
      "outputs": []
    }
  ]
}